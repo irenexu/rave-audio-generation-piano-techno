{
 "cells": [
  {
   "cell_type": "markdown",
   "metadata": {},
   "source": [
    "# 04. Audio Visualisation\n",
    "\n",
    "This is a brief attempt using Louis's Dorothy Python Library, along with the code I submitted for the STEM Assignment 3 last term, to visualise the output of the **rave_techno_model**. (timbre transfer on disco.wav)\n",
    "\n",
    "Example code and the program can be found in `'rave-techno-visualisation-example.py'` in the `'rave-visualisation-example-dorothy'` folder.\n",
    "\n",
    "A screen recording of the visualisation output is also included in this repository for easy access - `'04-rave-techno-visualisation-example-dorothy.mp4'`\n",
    "\n",
    "Feel free to tweak parameters and code, or use other pre-trained models to explore different visual effects."
   ]
  }
 ],
 "metadata": {
  "kernelspec": {
   "display_name": "aim",
   "language": "python",
   "name": "python3"
  },
  "language_info": {
   "codemirror_mode": {
    "name": "ipython",
    "version": 3
   },
   "file_extension": ".py",
   "mimetype": "text/x-python",
   "name": "python",
   "nbconvert_exporter": "python",
   "pygments_lexer": "ipython3",
   "version": "3.9.18"
  }
 },
 "nbformat": 4,
 "nbformat_minor": 2
}
