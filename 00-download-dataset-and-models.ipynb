{
 "cells": [
  {
   "cell_type": "markdown",
   "metadata": {},
   "source": [
    "# 00. Download Audio datasets, Processed Data, and Trained Models\n",
    "\n",
    "As GitHub blocks files larger than 100 MiB, the original audio files, pre-processed datasets, trained models, and checkpoints have all been removed from the repository (hence resulting in some empty folders). Relevant links and code are provided to download all the necessary files.\n",
    "\n",
    "The code in the following blocks will download files needed for each step using [gdown](https://pypi.org/project/gdown/) python package.\n",
    "\n",
    "Please download data accordingly, depending on the needs and interests:\n",
    "1. Start from Scratch\n",
    "   - if you want to **go through everything from the start**, download `1. Original Datasets` and follow the code and instructions from `01-dataset-preprocessing.ipynb`\n",
    "   - alternatively, you can also use your own dataset\n",
    "2. RAVE - Model Training\n",
    "   - if you want to **start from model training**, download `2. Preprocessed Datasets` and follow the code and instructions from `02-model-training.ipynb` (skip 01)\n",
    "3. Audio Generation with Trained Models\n",
    "   - if you want to jump on to **audio generation** using the trained models directly, download `3. Trained Models` and follow the code and instructions from `03-audio-generation.ipynb` (skip 01&02)\n",
    "4. Audio Visualisation with **Dorothy** (Example)\n",
    "   - if you want to explore **audio reactive drawing using Python**, download `3. Trained Models`, select the desired models and follow the instructions in `04-audio-visualisation.ipynb`. \n",
    "   - Example visulisation code is included in `./rave-visualisation-example-dorothy/rave-techno-visualisation-example.py`, which is based on a rave drawing template from [Dorothy](https://github.com/Louismac/dorothy/), a Creative Computing Python Library for Interactive Audio Generation and Audio Reactive Drawing, Copyright (c) 2023 Louismac. The part of drawing code is derived from 23/24 DSAI STEM Course Submitted assignment - part 3, which can be modified to create different drawings."
   ]
  },
  {
   "cell_type": "code",
   "execution_count": 1,
   "metadata": {},
   "outputs": [
    {
     "name": "stdout",
     "output_type": "stream",
     "text": [
      "Requirement already satisfied: gdown in /Users/irenex/anaconda3/envs/aim/lib/python3.9/site-packages (5.1.0)\n",
      "Requirement already satisfied: beautifulsoup4 in /Users/irenex/anaconda3/envs/aim/lib/python3.9/site-packages (from gdown) (4.12.2)\n",
      "Requirement already satisfied: filelock in /Users/irenex/anaconda3/envs/aim/lib/python3.9/site-packages (from gdown) (3.13.1)\n",
      "Requirement already satisfied: requests[socks] in /Users/irenex/anaconda3/envs/aim/lib/python3.9/site-packages (from gdown) (2.31.0)\n",
      "Requirement already satisfied: tqdm in /Users/irenex/anaconda3/envs/aim/lib/python3.9/site-packages (from gdown) (4.66.1)\n",
      "Requirement already satisfied: soupsieve>1.2 in /Users/irenex/anaconda3/envs/aim/lib/python3.9/site-packages (from beautifulsoup4->gdown) (2.5)\n",
      "Requirement already satisfied: charset-normalizer<4,>=2 in /Users/irenex/anaconda3/envs/aim/lib/python3.9/site-packages (from requests[socks]->gdown) (3.3.2)\n",
      "Requirement already satisfied: idna<4,>=2.5 in /Users/irenex/anaconda3/envs/aim/lib/python3.9/site-packages (from requests[socks]->gdown) (3.6)\n",
      "Requirement already satisfied: urllib3<3,>=1.21.1 in /Users/irenex/anaconda3/envs/aim/lib/python3.9/site-packages (from requests[socks]->gdown) (2.1.0)\n",
      "Requirement already satisfied: certifi>=2017.4.17 in /Users/irenex/anaconda3/envs/aim/lib/python3.9/site-packages (from requests[socks]->gdown) (2023.11.17)\n",
      "Requirement already satisfied: PySocks!=1.5.7,>=1.5.6 in /Users/irenex/anaconda3/envs/aim/lib/python3.9/site-packages (from requests[socks]->gdown) (1.7.1)\n"
     ]
    }
   ],
   "source": [
    "# You may need to install/upgrade the version of gdown if you are using it the first time\n",
    "# gdown 5.1.0, https://pypi.org/project/gdown/, directly download Google Drive files\n",
    "# this code was derived from the lecture notebook - week 5 GANs\n",
    "!pip install --upgrade --no-cache-dir gdown"
   ]
  },
  {
   "cell_type": "code",
   "execution_count": 2,
   "metadata": {},
   "outputs": [],
   "source": [
    "import gdown"
   ]
  },
  {
   "cell_type": "markdown",
   "metadata": {},
   "source": [
    "### 1. Download Original Datasets\n",
    "\n",
    "All training audio files were copyright-free audio obtained online.\n",
    "\n",
    "The Piano Dataset consists of classic piano music and solo piano pieces (mp3) obtained from musopen.org, chosic.com, soundcloud.com, and poxabay.com.\n",
    "\n",
    "The Techno Dataset consists of a collection of dark techno/cyberpunk/industrial-type beat/Dark Synth music (mp3) from https://www.youtube.com/@AimToHeadOfficial (Instrumentals/Beats by Aim To Head).\n",
    "\n",
    "The code in this block will download the training audio files.\n",
    "\n",
    "An alternative way is to download the audio files directly from the Google Drive, unzip and place them in the target path.\n",
    "- piano audio files - `./sounds/all_piano`: https://drive.google.com/uc?id=17pevxD5lMmmC-Ld0gtUyZDnWW5BrgvaE\n",
    "- techno audio files - `./sounds/all_techno`: https://drive.google.com/uc?id=1MCTfucrSucX6uP4z_9hm6nWqDRrNRQjI"
   ]
  },
  {
   "cell_type": "code",
   "execution_count": 10,
   "metadata": {},
   "outputs": [
    {
     "name": "stderr",
     "output_type": "stream",
     "text": [
      "Downloading...\n",
      "From (original): https://drive.google.com/uc?id=17pevxD5lMmmC-Ld0gtUyZDnWW5BrgvaE\n",
      "From (redirected): https://drive.usercontent.google.com/download?id=17pevxD5lMmmC-Ld0gtUyZDnWW5BrgvaE&confirm=t&uuid=d963d4e5-20e8-4655-86fc-15cddc4d8531\n",
      "To: /Users/irenex/Documents/GitHub/AI-4-Media-Rave-Audio-Generation/all_piano.zip\n",
      "100%|██████████| 544M/544M [00:17<00:00, 30.9MB/s] \n"
     ]
    },
    {
     "data": {
      "text/plain": [
       "'all_piano.zip'"
      ]
     },
     "execution_count": 10,
     "metadata": {},
     "output_type": "execute_result"
    }
   ],
   "source": [
    "# download the piano audio files, using the sharing URL from Google Drive\n",
    "# the file needs to be public in order for gdown to download\n",
    "piano_url = \"https://drive.google.com/file/d/17pevxD5lMmmC-Ld0gtUyZDnWW5BrgvaE/view?usp=sharing\"\n",
    "output = \"all_piano.zip\"\n",
    "gdown.download(url=piano_url, output=output, fuzzy=True)"
   ]
  },
  {
   "cell_type": "code",
   "execution_count": 13,
   "metadata": {},
   "outputs": [
    {
     "name": "stderr",
     "output_type": "stream",
     "text": [
      "Downloading...\n",
      "From (original): https://drive.google.com/uc?id=1MCTfucrSucX6uP4z_9hm6nWqDRrNRQjI\n",
      "From (redirected): https://drive.usercontent.google.com/download?id=1MCTfucrSucX6uP4z_9hm6nWqDRrNRQjI&confirm=t&uuid=96dfe677-d3f4-45fd-a187-0cd1c3ac17e4\n",
      "To: /Users/irenex/Documents/GitHub/AI-4-Media-Rave-Audio-Generation/all_techno.zip\n",
      "100%|██████████| 944M/944M [00:30<00:00, 30.7MB/s] \n"
     ]
    },
    {
     "data": {
      "text/plain": [
       "'all_techno.zip'"
      ]
     },
     "execution_count": 13,
     "metadata": {},
     "output_type": "execute_result"
    }
   ],
   "source": [
    "# download the techno audio files\n",
    "techno_url = \"https://drive.google.com/file/d/1MCTfucrSucX6uP4z_9hm6nWqDRrNRQjI/view?usp=sharingg\"\n",
    "output = \"all_techno.zip\"\n",
    "gdown.download(url=techno_url, output=output, fuzzy=True)"
   ]
  },
  {
   "cell_type": "code",
   "execution_count": 12,
   "metadata": {},
   "outputs": [
    {
     "name": "stdout",
     "output_type": "stream",
     "text": [
      "Archive:  all_piano.zip\n",
      "   creating: all_piano/\n",
      "  inflating: all_piano/Bagatelle No. 25 in A Minor (Ludwig van Beethoven).mp3  \n",
      "  inflating: __MACOSX/all_piano/._Bagatelle No. 25 in A Minor (Ludwig van Beethoven).mp3  \n",
      "  inflating: all_piano/Brendan_Kinsella_-_Mozart_-_Sonata_No_13_In_B_Flat_Major_K333_-_II_Andante_Cantabile(chosic.com).mp3  \n",
      "  inflating: __MACOSX/all_piano/._Brendan_Kinsella_-_Mozart_-_Sonata_No_13_In_B_Flat_Major_K333_-_II_Andante_Cantabile(chosic.com).mp3  \n",
      "  inflating: all_piano/Piano Sonata No. 10 in G, Op. 14, II. Andante.mp3  \n",
      "  inflating: __MACOSX/all_piano/._Piano Sonata No. 10 in G, Op. 14, II. Andante.mp3  \n",
      "  inflating: all_piano/Kimiko_Ishizaka_-_03_-_Variatio_2_a_1_Clav(chosic.com).mp3  \n",
      "  inflating: __MACOSX/all_piano/._Kimiko_Ishizaka_-_03_-_Variatio_2_a_1_Clav(chosic.com).mp3  \n",
      "  inflating: all_piano/Piano Sonata no. 16 'Facile', K. 545.mp3  \n",
      "  inflating: __MACOSX/all_piano/._Piano Sonata no. 16 'Facile', K. 545.mp3  \n",
      "  inflating: all_piano/Karine_Gilanyan_-_Beethoven_-_Piano_Sonata_nr15_in_D_major_op28_Pastoral_-_II_Andante(chosic.com).mp3  \n",
      "  inflating: __MACOSX/all_piano/._Karine_Gilanyan_-_Beethoven_-_Piano_Sonata_nr15_in_D_major_op28_Pastoral_-_II_Andante(chosic.com).mp3  \n",
      "  inflating: all_piano/The Shy Dancer No.1 (Piano Solo).mp3  \n",
      "  inflating: __MACOSX/all_piano/._The Shy Dancer No.1 (Piano Solo).mp3  \n",
      "  inflating: all_piano/John_Bartmann_-_19_-_Tender_Moment(chosic.com).mp3  \n",
      "  inflating: __MACOSX/all_piano/._John_Bartmann_-_19_-_Tender_Moment(chosic.com).mp3  \n",
      "  inflating: all_piano/Emotional Cinematic Corporate Piano by Alex-Productions (No Copyright Music) _ Free Music _ Freedom.mp3  \n",
      "  inflating: __MACOSX/all_piano/._Emotional Cinematic Corporate Piano by Alex-Productions (No Copyright Music) _ Free Music _ Freedom.mp3  \n",
      "  inflating: all_piano/Karine_Gilanyan_-_Beethoven_-_Piano_Sonata_nr15_in_D_major_op28_Pastoral_-_III_Scherzo_Allegro_Vivace(chosic.com).mp3  \n",
      "  inflating: __MACOSX/all_piano/._Karine_Gilanyan_-_Beethoven_-_Piano_Sonata_nr15_in_D_major_op28_Pastoral_-_III_Scherzo_Allegro_Vivace(chosic.com).mp3  \n",
      "  inflating: all_piano/Carlos_Gardels_-_Beethoven_-_Sonata_No_31_in_A_Flat_Major_Op_110_-_I_Moderato_cantabile_molto_espressivo(chosic.com).mp3  \n",
      "  inflating: __MACOSX/all_piano/._Carlos_Gardels_-_Beethoven_-_Sonata_No_31_in_A_Flat_Major_Op_110_-_I_Moderato_cantabile_molto_espressivo(chosic.com).mp3  \n",
      "  inflating: all_piano/hopeful-piano-112621.mp3  \n",
      "  inflating: __MACOSX/all_piano/._hopeful-piano-112621.mp3  \n",
      "  inflating: all_piano/II. Andante.mp3  \n",
      "  inflating: __MACOSX/all_piano/._II. Andante.mp3  \n",
      "  inflating: all_piano/Millennials Melody - Deep Forest.mp3  \n",
      "  inflating: __MACOSX/all_piano/._Millennials Melody - Deep Forest.mp3  \n",
      "  inflating: all_piano/Piano Sonata No. 30 in E major, Op. 109, III. Andante.mp3  \n",
      "  inflating: __MACOSX/all_piano/._Piano Sonata No. 30 in E major, Op. 109, III. Andante.mp3  \n",
      "  inflating: all_piano/Daniel_Veesey_-_01_-_Sonata_No_32_in_C_Minor_Op_111_-_I_Maestoso_-_Allegro_con_brio_ed_appassionato(chosic.com).mp3  \n",
      "  inflating: __MACOSX/all_piano/._Daniel_Veesey_-_01_-_Sonata_No_32_in_C_Minor_Op_111_-_I_Maestoso_-_Allegro_con_brio_ed_appassionato(chosic.com).mp3  \n",
      "  inflating: all_piano/Adagio in B minor, K. 540.mp3  \n",
      "  inflating: __MACOSX/all_piano/._Adagio in B minor, K. 540.mp3  \n",
      "  inflating: all_piano/Sonata in A Minor, D. 784 - II. Andante.mp3  \n",
      "  inflating: __MACOSX/all_piano/._Sonata in A Minor, D. 784 - II. Andante.mp3  \n",
      "  inflating: all_piano/Goldberg Variations, BWV. 988 - Variation 15. Canon on the fifth.mp3  \n",
      "  inflating: __MACOSX/all_piano/._Goldberg Variations, BWV. 988 - Variation 15. Canon on the fifth.mp3  \n",
      "  inflating: all_piano/Sad Piano No Copyright Free Emotional Calm Relaxing Background Music for Video _ Falling by Aylex.mp3  \n",
      "  inflating: __MACOSX/all_piano/._Sad Piano No Copyright Free Emotional Calm Relaxing Background Music for Video _ Falling by Aylex.mp3  \n",
      "  inflating: all_piano/Classical Sad Cinematic Piano by Alex-Productions (No Copyright Music) _ Desolation _.mp3  \n",
      "  inflating: __MACOSX/all_piano/._Classical Sad Cinematic Piano by Alex-Productions (No Copyright Music) _ Desolation _.mp3  \n",
      "  inflating: all_piano/Brendan_Kinsella_-_01_-_Bach_-_Aria_Variata_BWV_989_Variation_no1(chosic.com).mp3  \n",
      "  inflating: __MACOSX/all_piano/._Brendan_Kinsella_-_01_-_Bach_-_Aria_Variata_BWV_989_Variation_no1(chosic.com).mp3  \n",
      "  inflating: all_piano/Carlos_Gardels_-_01_-_Bach_-_Book_I_Prelude_and_Fugue_No_8_in_E_Flat_Minor_BWV_853_Prelude(chosic.com).mp3  \n",
      "  inflating: __MACOSX/all_piano/._Carlos_Gardels_-_01_-_Bach_-_Book_I_Prelude_and_Fugue_No_8_in_E_Flat_Minor_BWV_853_Prelude(chosic.com).mp3  \n",
      "  inflating: all_piano/river-calm-and-relaxing-piano-music-114478.mp3  \n",
      "  inflating: __MACOSX/all_piano/._river-calm-and-relaxing-piano-music-114478.mp3  \n",
      "  inflating: all_piano/Brendan_Kinsella_-_Mozart_-_Piano_Sonata_in_B-flat_major_III_Allegretto_Grazioso(chosic.com).mp3  \n",
      "  inflating: __MACOSX/all_piano/._Brendan_Kinsella_-_Mozart_-_Piano_Sonata_in_B-flat_major_III_Allegretto_Grazioso(chosic.com).mp3  \n",
      "  inflating: all_piano/Sonata in A Minor, D. 845 - II. Andante poco mosso.mp3  \n",
      "  inflating: __MACOSX/all_piano/._Sonata in A Minor, D. 845 - II. Andante poco mosso.mp3  \n",
      "  inflating: all_piano/Piano Sonata No. 11 in A major, K. 331, I. Allegro, II. Andante, III. Rondo _Turkish March_.mp3  \n",
      "  inflating: __MACOSX/all_piano/._Piano Sonata No. 11 in A major, K. 331, I. Allegro, II. Andante, III. Rondo _Turkish March_.mp3  \n",
      "  inflating: all_piano/Sad and Emotional Piano by Alex-Productions (No Copyright Music) Free Music _ Sad Piano _.mp3  \n",
      "  inflating: __MACOSX/all_piano/._Sad and Emotional Piano by Alex-Productions (No Copyright Music) Free Music _ Sad Piano _.mp3  \n",
      "  inflating: all_piano/Daniel_Veesey_-_01_-_Sonata_No_1_in_F_Minor_Op_2_No_1_-_I_Allegro(chosic.com).mp3  \n",
      "  inflating: __MACOSX/all_piano/._Daniel_Veesey_-_01_-_Sonata_No_1_in_F_Minor_Op_2_No_1_-_I_Allegro(chosic.com).mp3  \n",
      "  inflating: all_piano/Daniel_Veesey_-_02_-_Sonata_No_1_in_F_Minor_Op_2_No_1_-_II_Adagio-1(chosic.com).mp3  \n",
      "  inflating: __MACOSX/all_piano/._Daniel_Veesey_-_02_-_Sonata_No_1_in_F_Minor_Op_2_No_1_-_II_Adagio-1(chosic.com).mp3  \n",
      "  inflating: all_piano/Daniel_Veesey_-_Sonata_No_22_in_F_Major_Op_54_-_II_Allegretto(chosic.com).mp3  \n",
      "  inflating: __MACOSX/all_piano/._Daniel_Veesey_-_Sonata_No_22_in_F_Major_Op_54_-_II_Allegretto(chosic.com).mp3  \n",
      "  inflating: all_piano/beautiful-piano-115480.mp3  \n",
      "  inflating: __MACOSX/all_piano/._beautiful-piano-115480.mp3  \n",
      "  inflating: all_piano/Karine_Gilanyan_-_Beethoven_-_Piano_Sonata_nr15_in_D_major_op28_Pastoral_-_IV_Rondo_Allegro_ma_non_troppo(chosic.com).mp3  \n",
      "  inflating: __MACOSX/all_piano/._Karine_Gilanyan_-_Beethoven_-_Piano_Sonata_nr15_in_D_major_op28_Pastoral_-_IV_Rondo_Allegro_ma_non_troppo(chosic.com).mp3  \n",
      "  inflating: all_piano/Brendan_Kinsella_-_Mozart_-_Sonata_No_13_In_B_Flat_Major_K333_-_I_Allegro(chosic.com).mp3  \n",
      "  inflating: __MACOSX/all_piano/._Brendan_Kinsella_-_Mozart_-_Sonata_No_13_In_B_Flat_Major_K333_-_I_Allegro(chosic.com).mp3  \n",
      "  inflating: all_piano/Piano Sonata No. 1 in C major, K. 279, I. Allegro.mp3  \n",
      "  inflating: __MACOSX/all_piano/._Piano Sonata No. 1 in C major, K. 279, I. Allegro.mp3  \n",
      "  inflating: all_piano/inspiring-emotional-uplifting-piano-112623.mp3  \n",
      "  inflating: __MACOSX/all_piano/._inspiring-emotional-uplifting-piano-112623.mp3  \n",
      "  inflating: all_piano/A Bright New Day (Beautiful Inspiring Emotional Piano) [No Copyright].mp3  \n",
      "  inflating: __MACOSX/all_piano/._A Bright New Day (Beautiful Inspiring Emotional Piano) [No Copyright].mp3  \n",
      "  inflating: all_piano/moonlight-sonata-sonate-no-14-1st-movement-ludwig-van-bethoven-12490.mp3  \n",
      "  inflating: __MACOSX/all_piano/._moonlight-sonata-sonate-no-14-1st-movement-ludwig-van-bethoven-12490.mp3  \n",
      "  inflating: all_piano/Piano Sonata No. 16 in G major, Op. 31, II. Adagio.mp3  \n",
      "  inflating: __MACOSX/all_piano/._Piano Sonata No. 16 in G major, Op. 31, II. Adagio.mp3  \n",
      "  inflating: all_piano/Brendan_Kinsella_-_02_-_Bach_-_Aria_Variata_BVW_989_-_Variation_No_2(chosic.com).mp3  \n",
      "  inflating: __MACOSX/all_piano/._Brendan_Kinsella_-_02_-_Bach_-_Aria_Variata_BVW_989_-_Variation_No_2(chosic.com).mp3  \n",
      "  inflating: all_piano/stress-relief-piano-117013.mp3  \n",
      "  inflating: __MACOSX/all_piano/._stress-relief-piano-117013.mp3  \n",
      "  inflating: all_piano/morning-16294.mp3  \n",
      "  inflating: __MACOSX/all_piano/._morning-16294.mp3  \n",
      "  inflating: all_piano/inspirational-piano-141480.mp3  \n",
      "  inflating: __MACOSX/all_piano/._inspirational-piano-141480.mp3  \n",
      "  inflating: all_piano/Calm Lake Piano Solo - NO COPYRIGHT MUSIC.mp3  \n",
      "  inflating: __MACOSX/all_piano/._Calm Lake Piano Solo - NO COPYRIGHT MUSIC.mp3  \n",
      "  inflating: all_piano/Scott_Joplin_-_03_-_Maple_Leaf_Rag_1899_Z_Brewster-Geisz_version(chosic.com).mp3  \n",
      "  inflating: __MACOSX/all_piano/._Scott_Joplin_-_03_-_Maple_Leaf_Rag_1899_Z_Brewster-Geisz_version(chosic.com).mp3  \n",
      "  inflating: all_piano/D. 960 - II. Andante sostenuto.mp3  \n",
      "  inflating: __MACOSX/all_piano/._D. 960 - II. Andante sostenuto.mp3  \n",
      "  inflating: all_piano/spring-16211.mp3  \n",
      "  inflating: __MACOSX/all_piano/._spring-16211.mp3  \n",
      "  inflating: all_piano/Nathan_Eckel_-_01_-_Sonata_in_G_Minor_Didone_Abbandonata_op50_no3_-_I_Introduzione_Largo_patetico_e_sostenuto_-_I_Allegro_ma_con_espressione(chosic.com).mp3  \n",
      "  inflating: __MACOSX/all_piano/._Nathan_Eckel_-_01_-_Sonata_in_G_Minor_Didone_Abbandonata_op50_no3_-_I_Introduzione_Largo_patetico_e_sostenuto_-_I_Allegro_ma_con_espressione(chosic.com).mp3  \n",
      "  inflating: all_piano/Goldberg Variations, BWV 988 - 01 - Aria.mp3  \n",
      "  inflating: __MACOSX/all_piano/._Goldberg Variations, BWV 988 - 01 - Aria.mp3  \n",
      "  inflating: all_piano/piano-moment-9835.mp3  \n",
      "  inflating: __MACOSX/all_piano/._piano-moment-9835.mp3  \n",
      "  inflating: all_piano/D. 960 - IV. Allegro ma non troppo.mp3  \n",
      "  inflating: __MACOSX/all_piano/._D. 960 - IV. Allegro ma non troppo.mp3  \n",
      "  inflating: all_piano/The Sky Sails on The Wind (Piano Only) - Strawberry Candy.mp3  \n",
      "  inflating: __MACOSX/all_piano/._The Sky Sails on The Wind (Piano Only) - Strawberry Candy.mp3  \n",
      "  inflating: all_piano/Kimiko_Ishizaka_-_09_-_Variatio_8_a_2_Clav(chosic.com).mp3  \n",
      "  inflating: __MACOSX/all_piano/._Kimiko_Ishizaka_-_09_-_Variatio_8_a_2_Clav(chosic.com).mp3  \n",
      "  inflating: all_piano/Kimiko_Ishizaka_-_07_-_Variatio_6_a_1_Clav_Canone_alla_Seconda(chosic.com).mp3  \n",
      "  inflating: __MACOSX/all_piano/._Kimiko_Ishizaka_-_07_-_Variatio_6_a_1_Clav_Canone_alla_Seconda(chosic.com).mp3  \n",
      "  inflating: all_piano/Aaron_Dunn_-_Sonatina_No_1_in_C_Major_-_I_Allegro(chosic.com).mp3  \n",
      "  inflating: __MACOSX/all_piano/._Aaron_Dunn_-_Sonatina_No_1_in_C_Major_-_I_Allegro(chosic.com).mp3  \n",
      "  inflating: all_piano/Piano Sonata No. 11 in Bb, Op. 22, II. Adagio.mp3  \n",
      "  inflating: __MACOSX/all_piano/._Piano Sonata No. 11 in Bb, Op. 22, II. Adagio.mp3  \n",
      "  inflating: all_piano/Kimiko_Ishizaka_-_06_-_Variatio_5_a_1_ovvero_2_Clav(chosic.com).mp3  \n",
      "  inflating: __MACOSX/all_piano/._Kimiko_Ishizaka_-_06_-_Variatio_5_a_1_ovvero_2_Clav(chosic.com).mp3  \n",
      "  inflating: all_piano/Kimiko_Ishizaka_-_02_-_Variatio_1_a_1_Clav(chosic.com).mp3  \n",
      "  inflating: __MACOSX/all_piano/._Kimiko_Ishizaka_-_02_-_Variatio_1_a_1_Clav(chosic.com).mp3  \n",
      "  inflating: all_piano/Kimiko_Ishizaka_-_05_-_Variatio_4_a_1_Clav(chosic.com).mp3  \n",
      "  inflating: __MACOSX/all_piano/._Kimiko_Ishizaka_-_05_-_Variatio_4_a_1_Clav(chosic.com).mp3  \n",
      "  inflating: all_piano/Kimiko_Ishizaka_-_04_-_Variatio_3_a_1_Clav_Canone_allUnisuono(chosic.com).mp3  \n",
      "  inflating: __MACOSX/all_piano/._Kimiko_Ishizaka_-_04_-_Variatio_3_a_1_Clav_Canone_allUnisuono(chosic.com).mp3  \n",
      "  inflating: all_piano/Karine_Gilanyan_-_Beethoven_-_Piano_Sonata_nr15_in_D_major_op28_Pastoral_-_I_Allegro(chosic.com).mp3  \n",
      "  inflating: __MACOSX/all_piano/._Karine_Gilanyan_-_Beethoven_-_Piano_Sonata_nr15_in_D_major_op28_Pastoral_-_I_Allegro(chosic.com).mp3  \n",
      "  inflating: all_piano/angels-we-have-heard-on-high-grand-piano-french-christmas-carol-1881.mp3  \n",
      "  inflating: __MACOSX/all_piano/._angels-we-have-heard-on-high-grand-piano-french-christmas-carol-1881.mp3  \n",
      "  inflating: all_piano/Sad Classical Piano music by Alex-Productions (No Copyright Music) Rain on The Window _.mp3  \n",
      "  inflating: __MACOSX/all_piano/._Sad Classical Piano music by Alex-Productions (No Copyright Music) Rain on The Window _.mp3  \n",
      "  inflating: all_piano/Piano Sonata no. 18 in G major, D. 894 - II. Andante.mp3  \n",
      "  inflating: __MACOSX/all_piano/._Piano Sonata no. 18 in G major, D. 894 - II. Andante.mp3  \n",
      "  inflating: all_piano/Brendan_Kinsella_-_03_-_Bach_-_Aria_Variata_BVW_989_-_Variation_No_3(chosic.com).mp3  \n",
      "  inflating: __MACOSX/all_piano/._Brendan_Kinsella_-_03_-_Bach_-_Aria_Variata_BVW_989_-_Variation_No_3(chosic.com).mp3  \n",
      "  inflating: all_piano/Piano Sonata No. 7 in D, Op. 10, II. Largo e Mestro.mp3  \n",
      "  inflating: __MACOSX/all_piano/._Piano Sonata No. 7 in D, Op. 10, II. Largo e Mestro.mp3  \n",
      "  inflating: all_piano/Daniel_Veesey_-_01_-_Sonata_8_Pathetique_-_I_Grave_-_Allegro_di_molto_e_con_brio(chosic.com).mp3  \n",
      "  inflating: __MACOSX/all_piano/._Daniel_Veesey_-_01_-_Sonata_8_Pathetique_-_I_Grave_-_Allegro_di_molto_e_con_brio(chosic.com).mp3  \n",
      "  inflating: all_piano/Daniel_Veesey_-_04_-_Sonata_No_1_in_F_Minor_Op_2_No_1_-_IV_Prestissimo(chosic.com).mp3  \n",
      "  inflating: __MACOSX/all_piano/._Daniel_Veesey_-_04_-_Sonata_No_1_in_F_Minor_Op_2_No_1_-_IV_Prestissimo(chosic.com).mp3  \n",
      "  inflating: all_piano/spring-forest-141216.mp3  \n",
      "  inflating: __MACOSX/all_piano/._spring-forest-141216.mp3  \n",
      "  inflating: all_piano/Daniel_Veesey_-_Sonata_No_22_in_F_Major_Op_54_-_I_In_tempo_dun_Menuetto(chosic.com).mp3  \n",
      "  inflating: __MACOSX/all_piano/._Daniel_Veesey_-_Sonata_No_22_in_F_Major_Op_54_-_I_In_tempo_dun_Menuetto(chosic.com).mp3  \n",
      "  inflating: all_piano/Daniel_Veesey_-_03_-_Sonata_No_1_in_F_Minor_Op_2_No_1_-_III_Menuetto_Allegretto(chosic.com).mp3  \n",
      "  inflating: __MACOSX/all_piano/._Daniel_Veesey_-_03_-_Sonata_No_1_in_F_Minor_Op_2_No_1_-_III_Menuetto_Allegretto(chosic.com).mp3  \n",
      "  inflating: all_piano/Alla-Turca(chosic.com).mp3  \n",
      "  inflating: __MACOSX/all_piano/._Alla-Turca(chosic.com).mp3  \n"
     ]
    }
   ],
   "source": [
    "# unzip and move dataset - piano (mac and linux)\n",
    "!unzip all_piano.zip\n",
    "!mv all_piano ./sounds\n",
    "!rm all_piano.zip\n",
    "!rm -rf __MACOSX"
   ]
  },
  {
   "cell_type": "code",
   "execution_count": 14,
   "metadata": {},
   "outputs": [
    {
     "name": "stdout",
     "output_type": "stream",
     "text": [
      "Archive:  all_techno.zip\n",
      "   creating: all_techno/\n",
      "  inflating: all_techno/Brace.mp3    \n",
      "  inflating: __MACOSX/all_techno/._Brace.mp3  \n",
      "  inflating: all_techno/Bones.mp3    \n",
      "  inflating: __MACOSX/all_techno/._Bones.mp3  \n",
      "  inflating: all_techno/HEINOUS.mp3  \n",
      "  inflating: __MACOSX/all_techno/._HEINOUS.mp3  \n",
      "  inflating: all_techno/INSTINCTS.mp3  \n",
      "  inflating: __MACOSX/all_techno/._INSTINCTS.mp3  \n",
      "  inflating: all_techno/Witchtripper.mp3  \n",
      "  inflating: __MACOSX/all_techno/._Witchtripper.mp3  \n",
      "  inflating: all_techno/Bonds.mp3    \n",
      "  inflating: __MACOSX/all_techno/._Bonds.mp3  \n",
      "  inflating: all_techno/Worthless.mp3  \n",
      "  inflating: __MACOSX/all_techno/._Worthless.mp3  \n",
      "  inflating: all_techno/Violet.mp3   \n",
      "  inflating: __MACOSX/all_techno/._Violet.mp3  \n",
      "  inflating: all_techno/Wave.mp3     \n",
      "  inflating: __MACOSX/all_techno/._Wave.mp3  \n",
      "  inflating: all_techno/Remebrance.mp3  \n",
      "  inflating: __MACOSX/all_techno/._Remebrance.mp3  \n",
      "  inflating: all_techno/Module.mp3   \n",
      "  inflating: __MACOSX/all_techno/._Module.mp3  \n",
      "  inflating: all_techno/Red Sand.mp3  \n",
      "  inflating: __MACOSX/all_techno/._Red Sand.mp3  \n",
      "  inflating: all_techno/Strial.mp3   \n",
      "  inflating: __MACOSX/all_techno/._Strial.mp3  \n",
      "  inflating: all_techno/Savage.mp3   \n",
      "  inflating: __MACOSX/all_techno/._Savage.mp3  \n",
      "  inflating: all_techno/Pathogen.mp3  \n",
      "  inflating: __MACOSX/all_techno/._Pathogen.mp3  \n",
      "  inflating: all_techno/Miserable.mp3  \n",
      "  inflating: __MACOSX/all_techno/._Miserable.mp3  \n",
      "  inflating: all_techno/Exart.mp3    \n",
      "  inflating: __MACOSX/all_techno/._Exart.mp3  \n",
      "  inflating: all_techno/Bloodtide.mp3  \n",
      "  inflating: __MACOSX/all_techno/._Bloodtide.mp3  \n",
      "  inflating: all_techno/Unforgiven.mp3  \n",
      "  inflating: __MACOSX/all_techno/._Unforgiven.mp3  \n",
      "  inflating: all_techno/Master.mp3   \n",
      "  inflating: __MACOSX/all_techno/._Master.mp3  \n",
      "  inflating: all_techno/Nerve.mp3    \n",
      "  inflating: __MACOSX/all_techno/._Nerve.mp3  \n",
      "  inflating: all_techno/Porcelain.mp3  \n",
      "  inflating: __MACOSX/all_techno/._Porcelain.mp3  \n",
      "  inflating: all_techno/Gloom.mp3    \n",
      "  inflating: __MACOSX/all_techno/._Gloom.mp3  \n",
      "  inflating: all_techno/Xenobot.mp3  \n",
      "  inflating: __MACOSX/all_techno/._Xenobot.mp3  \n",
      "  inflating: all_techno/Authority.mp3  \n",
      "  inflating: __MACOSX/all_techno/._Authority.mp3  \n",
      "  inflating: all_techno/Disruption.mp3  \n",
      "  inflating: __MACOSX/all_techno/._Disruption.mp3  \n",
      "  inflating: all_techno/Legio.mp3    \n",
      "  inflating: __MACOSX/all_techno/._Legio.mp3  \n",
      "  inflating: all_techno/Nightbite.mp3  \n",
      "  inflating: __MACOSX/all_techno/._Nightbite.mp3  \n",
      "  inflating: all_techno/Phobos.mp3   \n",
      "  inflating: __MACOSX/all_techno/._Phobos.mp3  \n",
      "  inflating: all_techno/Room Mush.mp3  \n",
      "  inflating: __MACOSX/all_techno/._Room Mush.mp3  \n",
      "  inflating: all_techno/Black Whole.mp3  \n",
      "  inflating: __MACOSX/all_techno/._Black Whole.mp3  \n",
      "  inflating: all_techno/Illusion.mp3  \n",
      "  inflating: __MACOSX/all_techno/._Illusion.mp3  \n",
      "  inflating: all_techno/Dying Breed.mp3  \n",
      "  inflating: __MACOSX/all_techno/._Dying Breed.mp3  \n",
      "  inflating: all_techno/Glace.mp3    \n",
      "  inflating: __MACOSX/all_techno/._Glace.mp3  \n",
      "  inflating: all_techno/Stalker.mp3  \n",
      "  inflating: __MACOSX/all_techno/._Stalker.mp3  \n",
      "  inflating: all_techno/Ambush.mp3   \n",
      "  inflating: __MACOSX/all_techno/._Ambush.mp3  \n",
      "  inflating: all_techno/Sharpen.mp3  \n",
      "  inflating: __MACOSX/all_techno/._Sharpen.mp3  \n",
      "  inflating: all_techno/Desecrate.mp3  \n",
      "  inflating: __MACOSX/all_techno/._Desecrate.mp3  \n",
      "  inflating: all_techno/Damsel.mp3   \n",
      "  inflating: __MACOSX/all_techno/._Damsel.mp3  \n",
      "  inflating: all_techno/Only.mp3     \n",
      "  inflating: __MACOSX/all_techno/._Only.mp3  \n",
      "  inflating: all_techno/Disobey.mp3  \n",
      "  inflating: __MACOSX/all_techno/._Disobey.mp3  \n",
      "  inflating: all_techno/Icon.mp3     \n",
      "  inflating: __MACOSX/all_techno/._Icon.mp3  \n",
      "  inflating: all_techno/Eventide.mp3  \n",
      "  inflating: __MACOSX/all_techno/._Eventide.mp3  \n",
      "  inflating: all_techno/Schizo.mp3   \n",
      "  inflating: __MACOSX/all_techno/._Schizo.mp3  \n",
      "  inflating: all_techno/Tarantula.mp3  \n",
      "  inflating: __MACOSX/all_techno/._Tarantula.mp3  \n",
      "  inflating: all_techno/Dumb.mp3     \n",
      "  inflating: __MACOSX/all_techno/._Dumb.mp3  \n",
      "  inflating: all_techno/Rotten Machine.mp3  \n",
      "  inflating: __MACOSX/all_techno/._Rotten Machine.mp3  \n",
      "  inflating: all_techno/Baptism.mp3  \n",
      "  inflating: __MACOSX/all_techno/._Baptism.mp3  \n",
      "  inflating: all_techno/Enforcer.mp3  \n",
      "  inflating: __MACOSX/all_techno/._Enforcer.mp3  \n",
      "  inflating: all_techno/Thrace.mp3   \n",
      "  inflating: __MACOSX/all_techno/._Thrace.mp3  \n",
      "  inflating: all_techno/Searching.mp3  \n",
      "  inflating: __MACOSX/all_techno/._Searching.mp3  \n",
      "  inflating: all_techno/Portrait.mp3  \n",
      "  inflating: __MACOSX/all_techno/._Portrait.mp3  \n",
      "  inflating: all_techno/Pulsion.mp3  \n",
      "  inflating: __MACOSX/all_techno/._Pulsion.mp3  \n",
      "  inflating: all_techno/Cyclop.mp3   \n",
      "  inflating: __MACOSX/all_techno/._Cyclop.mp3  \n",
      "  inflating: all_techno/Flesh.mp3    \n",
      "  inflating: __MACOSX/all_techno/._Flesh.mp3  \n",
      "  inflating: all_techno/Numbed.mp3   \n",
      "  inflating: __MACOSX/all_techno/._Numbed.mp3  \n",
      "  inflating: all_techno/Ghostfire (Enchanted Version).mp3  \n",
      "  inflating: __MACOSX/all_techno/._Ghostfire (Enchanted Version).mp3  \n",
      "  inflating: all_techno/Dirt.mp3     \n",
      "  inflating: __MACOSX/all_techno/._Dirt.mp3  \n",
      "  inflating: all_techno/Slowcore.mp3  \n",
      "  inflating: __MACOSX/all_techno/._Slowcore.mp3  \n"
     ]
    }
   ],
   "source": [
    "# unzip and move dataset - techno (mac and linux)\n",
    "!unzip all_techno.zip\n",
    "!mv all_techno ./sounds\n",
    "!rm all_techno.zip\n",
    "!rm -rf __MACOSX"
   ]
  },
  {
   "cell_type": "code",
   "execution_count": null,
   "metadata": {},
   "outputs": [],
   "source": [
    "# # unzip and move dataset (wins)\n",
    "# !tar -xf all_piano.zip\n",
    "# !robocopy mnist ./sounds\n",
    "# !del all_piano.zip\n",
    "# !rmdir /s /q all_piano"
   ]
  },
  {
   "cell_type": "markdown",
   "metadata": {},
   "source": [
    "### 2. Download Preprocessed Datasets (Audio Files)\n",
    "\n",
    "The code in this block will download the preprocessed (merged) audio files, which are the outcomes of `01-dataset-preprocesing.ipynb', and can be directly used to in rave model training.\n",
    "\n",
    "An alternative way is to download the datasets directly from the Google Drive, unzip and place them in the target path.\n",
    "- piano dataset (6:00:35 mp3 file) - `./sounds/preprocessed_audio`: https://drive.usercontent.google.com/download?id=1oxWRdJ5xMOwgiti2n_GvoP0WVA2dPhL0&authuser=0\n",
    "- techno dataset (6:40:32 mp3 file) - `./sounds/preprocessed_audio`: https://drive.usercontent.google.com/download?id=1ggWXmRKGGl3IhKWYa4zCYr1JOwqeYCSh&authuser=0"
   ]
  },
  {
   "cell_type": "code",
   "execution_count": 16,
   "metadata": {},
   "outputs": [
    {
     "name": "stderr",
     "output_type": "stream",
     "text": [
      "Downloading...\n",
      "From (original): https://drive.google.com/uc?id=1oxWRdJ5xMOwgiti2n_GvoP0WVA2dPhL0\n",
      "From (redirected): https://drive.usercontent.google.com/download?id=1oxWRdJ5xMOwgiti2n_GvoP0WVA2dPhL0&confirm=t&uuid=4deb6f84-ade3-45cb-b86e-62b057c4b685\n",
      "To: /Users/irenex/Documents/GitHub/AI-4-Media-Rave-Audio-Generation/piano-dataset.mp3\n",
      "100%|██████████| 173M/173M [00:05<00:00, 29.2MB/s] \n"
     ]
    }
   ],
   "source": [
    "# download the piano audio file and move to specified path\n",
    "piano_url = \"https://drive.google.com/file/d/1oxWRdJ5xMOwgiti2n_GvoP0WVA2dPhL0/view?usp=sharing\"\n",
    "output = \"piano-dataset.mp3\"\n",
    "gdown.download(url=piano_url, output=output, fuzzy=True)\n",
    "!mv piano-dataset.mp3 ./sounds/preprocessed_audio"
   ]
  },
  {
   "cell_type": "code",
   "execution_count": 17,
   "metadata": {},
   "outputs": [
    {
     "name": "stderr",
     "output_type": "stream",
     "text": [
      "Downloading...\n",
      "From (original): https://drive.google.com/uc?id=1ggWXmRKGGl3IhKWYa4zCYr1JOwqeYCSh\n",
      "From (redirected): https://drive.usercontent.google.com/download?id=1ggWXmRKGGl3IhKWYa4zCYr1JOwqeYCSh&confirm=t&uuid=ca548a87-0cee-416e-acf1-8fee3296f6fa\n",
      "To: /Users/irenex/Documents/GitHub/AI-4-Media-Rave-Audio-Generation/techno-dataset.mp3\n",
      "100%|██████████| 211M/211M [00:07<00:00, 27.2MB/s] \n"
     ]
    }
   ],
   "source": [
    "# download the techno audio file and move to specified path\n",
    "piano_url = \"https://drive.google.com/file/d/1ggWXmRKGGl3IhKWYa4zCYr1JOwqeYCSh/view?usp=sharing\"\n",
    "output = \"techno-dataset.mp3\"\n",
    "gdown.download(url=piano_url, output=output, fuzzy=True)\n",
    "!mv techno-dataset.mp3 ./sounds/preprocessed_audio"
   ]
  },
  {
   "cell_type": "markdown",
   "metadata": {},
   "source": [
    "### 3. Download Trained Models (.ts)\n",
    "\n",
    "The code in this block will download the trained models (.ts), which are the outcomes of `02-model-training.ipynb', and can be directly used for audio generation/visualisation or to be used live with Max/MSP or PureData.\n",
    "\n",
    "Each model comes with several versions (different checkpoints) which can be used for comparison.\n",
    "\n",
    "An alternative way is to download the models directly from the Google Drive, unzip and place them in the target path.\n",
    "- piano models (epoch109/1011/2011/3013/4069) - `./models`: https://drive.usercontent.google.com/download?id=1Dgf3u0t5maErozNkQgbLfKFK-8SaoqWL&authuser=0\n",
    "  - 109/1011/2011 are in training stage 1\n",
    "  - 3013/4069 are in traning stage 2; 4069 at around 2m steps\n",
    "- techno models (epoch119/1019/2019/3019/4059) - `./models`: https://drive.google.com/uc?id=1YDA3rG_yxjWDpZ2HghXwsVWymuHKj14-\n",
    "  - 119/1019/2019 are in training stage 1\n",
    "  - 3019/4059 are in traning stage 2; 4059 at around 2m steps"
   ]
  },
  {
   "cell_type": "code",
   "execution_count": 3,
   "metadata": {},
   "outputs": [
    {
     "name": "stderr",
     "output_type": "stream",
     "text": [
      "Downloading...\n",
      "From (original): https://drive.google.com/uc?id=1Dgf3u0t5maErozNkQgbLfKFK-8SaoqWL\n",
      "From (redirected): https://drive.usercontent.google.com/download?id=1Dgf3u0t5maErozNkQgbLfKFK-8SaoqWL&confirm=t&uuid=bb1dd15c-b132-492d-9cfb-ee67eae7146b\n",
      "To: /Users/irenex/Documents/GitHub/AI-4-Media-Rave-Audio-Generation/rav_piano_models.zip\n",
      "100%|██████████| 592M/592M [00:23<00:00, 25.4MB/s] \n"
     ]
    },
    {
     "data": {
      "text/plain": [
       "'rav_piano_models.zip'"
      ]
     },
     "execution_count": 3,
     "metadata": {},
     "output_type": "execute_result"
    }
   ],
   "source": [
    "# download the piano models zip file\n",
    "piano_models = \"https://drive.google.com/file/d/1Dgf3u0t5maErozNkQgbLfKFK-8SaoqWL/view?usp=sharing\"\n",
    "output = \"rav_piano_models.zip\"\n",
    "gdown.download(url=piano_models, output=output, fuzzy=True)"
   ]
  },
  {
   "cell_type": "code",
   "execution_count": 4,
   "metadata": {},
   "outputs": [
    {
     "name": "stdout",
     "output_type": "stream",
     "text": [
      "Archive:  rav_piano_models.zip\n",
      "   creating: rav_piano_models/\n",
      "  inflating: rav_piano_models/rav_piano_2001.ts  \n",
      "  inflating: __MACOSX/rav_piano_models/._rav_piano_2001.ts  \n",
      "  inflating: rav_piano_models/rav_piano_1011.ts  \n",
      "  inflating: __MACOSX/rav_piano_models/._rav_piano_1011.ts  \n",
      "  inflating: rav_piano_models/rav_piano_4069.ts  \n",
      "  inflating: rav_piano_models/rav_piano_3013.ts  \n",
      "  inflating: __MACOSX/rav_piano_models/._rav_piano_3013.ts  \n",
      "  inflating: rav_piano_models/rav_piano_109.ts  \n",
      "  inflating: __MACOSX/rav_piano_models/._rav_piano_109.ts  \n"
     ]
    }
   ],
   "source": [
    "# unzip and move models to models/\n",
    "!unzip rav_piano_models.zip\n",
    "!mv rav_piano_models/* models/\n",
    "!rm rav_piano_models.zip\n",
    "!rm -rf __MACOSX\n",
    "!rm -rf rav_piano_models"
   ]
  },
  {
   "cell_type": "code",
   "execution_count": 5,
   "metadata": {},
   "outputs": [
    {
     "name": "stderr",
     "output_type": "stream",
     "text": [
      "Downloading...\n",
      "From (original): https://drive.google.com/uc?id=1YDA3rG_yxjWDpZ2HghXwsVWymuHKj14-\n",
      "From (redirected): https://drive.usercontent.google.com/download?id=1YDA3rG_yxjWDpZ2HghXwsVWymuHKj14-&confirm=t&uuid=109c6f27-8491-414b-a964-51ab6486f302\n",
      "To: /Users/irenex/Documents/GitHub/AI-4-Media-Rave-Audio-Generation/rav_techno_models.zip\n",
      "100%|██████████| 593M/593M [00:19<00:00, 31.0MB/s] \n"
     ]
    },
    {
     "data": {
      "text/plain": [
       "'rav_techno_models.zip'"
      ]
     },
     "execution_count": 5,
     "metadata": {},
     "output_type": "execute_result"
    }
   ],
   "source": [
    "# download the techno models zip file \n",
    "techno_models = \"https://drive.google.com/file/d/1YDA3rG_yxjWDpZ2HghXwsVWymuHKj14-/view?usp=sharing\"\n",
    "output = \"rav_techno_models.zip\"\n",
    "gdown.download(url=techno_models, output=output, fuzzy=True)"
   ]
  },
  {
   "cell_type": "code",
   "execution_count": 6,
   "metadata": {},
   "outputs": [
    {
     "name": "stdout",
     "output_type": "stream",
     "text": [
      "Archive:  rav_techno_models.zip\n",
      "   creating: rav_techno_models/\n",
      "  inflating: rav_techno_models/rav_techno_3019.ts  \n",
      "  inflating: __MACOSX/rav_techno_models/._rav_techno_3019.ts  \n",
      "  inflating: rav_techno_models/rav_techno_1019.ts  \n",
      "  inflating: rav_techno_models/rav_techno_2059.ts  \n",
      "  inflating: rav_techno_models/rav_techno_4059.ts  \n",
      "  inflating: __MACOSX/rav_techno_models/._rav_techno_4059.ts  \n",
      "  inflating: rav_techno_models/rav_techno_119.ts  \n"
     ]
    }
   ],
   "source": [
    "# unzip and move models to models/\n",
    "!unzip rav_techno_models.zip\n",
    "!mv rav_techno_models/* models/\n",
    "!rm rav_techno_models.zip\n",
    "!rm -rf __MACOSX\n",
    "!rm -rf rav_techno_models"
   ]
  },
  {
   "cell_type": "markdown",
   "metadata": {},
   "source": [
    "### 4. Download Checkpoints for TensorBoard Metrics\n",
    "\n",
    "Link - https://artslondon-my.sharepoint.com/:u:/g/personal/i_xu0320231_arts_ac_uk/EQs7GpVTkJVHqxhY9bEeN-sBvzvlNijxZ92FILbB0Y45IQ?e=sJ8QaN (10.5G) - only accessible if you hold UAL's account\n",
    "\n",
    "In case there is a need to review all TensorBoard Metrics (Scalars), please download all the checkpoints for the two models from the above link and use Visual Studio Code (VSC) to run TensorBoard"
   ]
  }
 ],
 "metadata": {
  "kernelspec": {
   "display_name": "aim",
   "language": "python",
   "name": "python3"
  },
  "language_info": {
   "codemirror_mode": {
    "name": "ipython",
    "version": 3
   },
   "file_extension": ".py",
   "mimetype": "text/x-python",
   "name": "python",
   "nbconvert_exporter": "python",
   "pygments_lexer": "ipython3",
   "version": "3.9.18"
  }
 },
 "nbformat": 4,
 "nbformat_minor": 2
}
